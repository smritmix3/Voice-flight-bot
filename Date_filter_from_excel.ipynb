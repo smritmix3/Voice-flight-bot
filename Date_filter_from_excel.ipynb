{
  "nbformat": 4,
  "nbformat_minor": 0,
  "metadata": {
    "colab": {
      "name": "Date_filter_from_excel",
      "provenance": [],
      "collapsed_sections": [],
      "include_colab_link": true
    },
    "kernelspec": {
      "name": "python3",
      "display_name": "Python 3"
    },
    "language_info": {
      "name": "python"
    }
  },
  "cells": [
    {
      "cell_type": "markdown",
      "metadata": {
        "id": "view-in-github",
        "colab_type": "text"
      },
      "source": [
        "<a href=\"https://colab.research.google.com/github/smritmix3/Voice-flight-bot/blob/voiceip/Date_filter_from_excel.ipynb\" target=\"_parent\"><img src=\"https://colab.research.google.com/assets/colab-badge.svg\" alt=\"Open In Colab\"/></a>"
      ]
    },
    {
      "cell_type": "code",
      "metadata": {
        "id": "gq0Lw6aPouig"
      },
      "source": [
        "import pandas as pd\n",
        "import datetime\n",
        "from datetime import datetime, timedelta"
      ],
      "execution_count": null,
      "outputs": []
    },
    {
      "cell_type": "code",
      "metadata": {
        "id": "_fLGWGG_0Qcn"
      },
      "source": [
        "age = 4"
      ],
      "execution_count": null,
      "outputs": []
    },
    {
      "cell_type": "code",
      "metadata": {
        "id": "o-728G-SqHoa"
      },
      "source": [
        "createDate = pd.read_excel('Unassign.xls')"
      ],
      "execution_count": null,
      "outputs": []
    },
    {
      "cell_type": "code",
      "metadata": {
        "colab": {
          "base_uri": "https://localhost:8080/",
          "height": 397
        },
        "id": "UlgdQsClrPDl",
        "outputId": "f950ec57-15ae-4bbd-8db7-505031c9390d"
      },
      "source": [
        "createDate.head()"
      ],
      "execution_count": null,
      "outputs": [
        {
          "output_type": "execute_result",
          "data": {
            "text/html": [
              "<div>\n",
              "<style scoped>\n",
              "    .dataframe tbody tr th:only-of-type {\n",
              "        vertical-align: middle;\n",
              "    }\n",
              "\n",
              "    .dataframe tbody tr th {\n",
              "        vertical-align: top;\n",
              "    }\n",
              "\n",
              "    .dataframe thead th {\n",
              "        text-align: right;\n",
              "    }\n",
              "</style>\n",
              "<table border=\"1\" class=\"dataframe\">\n",
              "  <thead>\n",
              "    <tr style=\"text-align: right;\">\n",
              "      <th></th>\n",
              "      <th>Invoice Name</th>\n",
              "      <th>Vendor Name</th>\n",
              "      <th>Invoice Number</th>\n",
              "      <th>Invoice Date</th>\n",
              "      <th>Total</th>\n",
              "      <th>Last Comment</th>\n",
              "      <th>Policy Name</th>\n",
              "      <th>Create Date</th>\n",
              "    </tr>\n",
              "  </thead>\n",
              "  <tbody>\n",
              "    <tr>\n",
              "      <th>0</th>\n",
              "      <td>HENRY SCHEIN, INC.(HENR001#000)-87087374</td>\n",
              "      <td>HENRY SCHEIN, INC.</td>\n",
              "      <td>87087374</td>\n",
              "      <td>2020-12-08</td>\n",
              "      <td>102.76</td>\n",
              "      <td>Part of Schein discussion\\n</td>\n",
              "      <td>*Payment Request Policy</td>\n",
              "      <td>2021-05-13 14:24:19.387</td>\n",
              "    </tr>\n",
              "    <tr>\n",
              "      <th>1</th>\n",
              "      <td>HENRY SCHEIN, INC.(HENR001#000)-87268579</td>\n",
              "      <td>HENRY SCHEIN, INC.</td>\n",
              "      <td>87268579</td>\n",
              "      <td>2020-12-11</td>\n",
              "      <td>88.58</td>\n",
              "      <td>query-mail for henry schein closed office\\n</td>\n",
              "      <td>*Payment Request Policy</td>\n",
              "      <td>2021-05-13 14:44:37.867</td>\n",
              "    </tr>\n",
              "    <tr>\n",
              "      <th>2</th>\n",
              "      <td>HENRY SCHEIN, INC.(HENR001#000)-87268535</td>\n",
              "      <td>HENRY SCHEIN, INC.</td>\n",
              "      <td>87268535</td>\n",
              "      <td>2020-12-11</td>\n",
              "      <td>95.66</td>\n",
              "      <td>Part of Schein discussion\\n</td>\n",
              "      <td>*Payment Request Policy</td>\n",
              "      <td>2021-05-13 14:45:12.337</td>\n",
              "    </tr>\n",
              "    <tr>\n",
              "      <th>3</th>\n",
              "      <td>HENRY SCHEIN, INC.(HENR001#000)-87268558</td>\n",
              "      <td>HENRY SCHEIN, INC.</td>\n",
              "      <td>87268558</td>\n",
              "      <td>2020-12-11</td>\n",
              "      <td>95.66</td>\n",
              "      <td>Part of Schein discussion\\n</td>\n",
              "      <td>*Payment Request Policy</td>\n",
              "      <td>2021-05-13 14:45:19.460</td>\n",
              "    </tr>\n",
              "    <tr>\n",
              "      <th>4</th>\n",
              "      <td>HENRY SCHEIN, INC.(HENR001#000)-87602937</td>\n",
              "      <td>HENRY SCHEIN, INC.</td>\n",
              "      <td>87602937</td>\n",
              "      <td>2020-12-18</td>\n",
              "      <td>99.89</td>\n",
              "      <td>follow up mail sent\\n</td>\n",
              "      <td>*Payment Request Policy</td>\n",
              "      <td>2021-05-27 10:41:22.367</td>\n",
              "    </tr>\n",
              "  </tbody>\n",
              "</table>\n",
              "</div>"
            ],
            "text/plain": [
              "                               Invoice Name  ...             Create Date\n",
              "0  HENRY SCHEIN, INC.(HENR001#000)-87087374  ... 2021-05-13 14:24:19.387\n",
              "1  HENRY SCHEIN, INC.(HENR001#000)-87268579  ... 2021-05-13 14:44:37.867\n",
              "2  HENRY SCHEIN, INC.(HENR001#000)-87268535  ... 2021-05-13 14:45:12.337\n",
              "3  HENRY SCHEIN, INC.(HENR001#000)-87268558  ... 2021-05-13 14:45:19.460\n",
              "4  HENRY SCHEIN, INC.(HENR001#000)-87602937  ... 2021-05-27 10:41:22.367\n",
              "\n",
              "[5 rows x 8 columns]"
            ]
          },
          "metadata": {},
          "execution_count": 175
        }
      ]
    },
    {
      "cell_type": "code",
      "metadata": {
        "id": "VKYu0xZ1shl2"
      },
      "source": [
        "createDate['Create Date'] = pd.to_datetime(createDate['Create Date'])"
      ],
      "execution_count": null,
      "outputs": []
    },
    {
      "cell_type": "code",
      "metadata": {
        "colab": {
          "base_uri": "https://localhost:8080/",
          "height": 133
        },
        "id": "UjF0e3ZKtWYc",
        "outputId": "e2591485-b3d4-4d5b-e747-35b6b00b9a32"
      },
      "source": [
        "createDate.head(1)"
      ],
      "execution_count": null,
      "outputs": [
        {
          "output_type": "execute_result",
          "data": {
            "text/html": [
              "<div>\n",
              "<style scoped>\n",
              "    .dataframe tbody tr th:only-of-type {\n",
              "        vertical-align: middle;\n",
              "    }\n",
              "\n",
              "    .dataframe tbody tr th {\n",
              "        vertical-align: top;\n",
              "    }\n",
              "\n",
              "    .dataframe thead th {\n",
              "        text-align: right;\n",
              "    }\n",
              "</style>\n",
              "<table border=\"1\" class=\"dataframe\">\n",
              "  <thead>\n",
              "    <tr style=\"text-align: right;\">\n",
              "      <th></th>\n",
              "      <th>Invoice Name</th>\n",
              "      <th>Vendor Name</th>\n",
              "      <th>Invoice Number</th>\n",
              "      <th>Invoice Date</th>\n",
              "      <th>Total</th>\n",
              "      <th>Last Comment</th>\n",
              "      <th>Policy Name</th>\n",
              "      <th>Create Date</th>\n",
              "    </tr>\n",
              "  </thead>\n",
              "  <tbody>\n",
              "    <tr>\n",
              "      <th>0</th>\n",
              "      <td>HENRY SCHEIN, INC.(HENR001#000)-87087374</td>\n",
              "      <td>HENRY SCHEIN, INC.</td>\n",
              "      <td>87087374</td>\n",
              "      <td>2020-12-08</td>\n",
              "      <td>102.76</td>\n",
              "      <td>Part of Schein discussion\\n</td>\n",
              "      <td>*Payment Request Policy</td>\n",
              "      <td>2021-05-13 14:24:19.387</td>\n",
              "    </tr>\n",
              "  </tbody>\n",
              "</table>\n",
              "</div>"
            ],
            "text/plain": [
              "                               Invoice Name  ...             Create Date\n",
              "0  HENRY SCHEIN, INC.(HENR001#000)-87087374  ... 2021-05-13 14:24:19.387\n",
              "\n",
              "[1 rows x 8 columns]"
            ]
          },
          "metadata": {},
          "execution_count": 177
        }
      ]
    },
    {
      "cell_type": "code",
      "metadata": {
        "colab": {
          "base_uri": "https://localhost:8080/",
          "height": 235
        },
        "id": "5Bo7aj2xvykj",
        "outputId": "98fd92b2-b24d-40e5-c2e0-af28d5818675"
      },
      "source": [
        "calculate_end_date = datetime.today().strftime('%Y-%m-%d')\n",
        "calculate_start_date = timedelta(days=age)\n",
        "start_date = calculate_start_date.days\n",
        "abc = calculate_end_date - start_date\n",
        "print(calculate_end_date)\n",
        "print(start_date)\n",
        "print(abc)"
      ],
      "execution_count": null,
      "outputs": [
        {
          "output_type": "error",
          "ename": "TypeError",
          "evalue": "ignored",
          "traceback": [
            "\u001b[0;31m---------------------------------------------------------------------------\u001b[0m",
            "\u001b[0;31mTypeError\u001b[0m                                 Traceback (most recent call last)",
            "\u001b[0;32m<ipython-input-195-2d915a7f0d12>\u001b[0m in \u001b[0;36m<module>\u001b[0;34m()\u001b[0m\n\u001b[1;32m      2\u001b[0m \u001b[0mcalculate_start_date\u001b[0m \u001b[0;34m=\u001b[0m \u001b[0mtimedelta\u001b[0m\u001b[0;34m(\u001b[0m\u001b[0mdays\u001b[0m\u001b[0;34m=\u001b[0m\u001b[0mage\u001b[0m\u001b[0;34m)\u001b[0m\u001b[0;34m\u001b[0m\u001b[0;34m\u001b[0m\u001b[0m\n\u001b[1;32m      3\u001b[0m \u001b[0mstart_date\u001b[0m \u001b[0;34m=\u001b[0m \u001b[0mcalculate_start_date\u001b[0m\u001b[0;34m.\u001b[0m\u001b[0mdays\u001b[0m\u001b[0;34m\u001b[0m\u001b[0;34m\u001b[0m\u001b[0m\n\u001b[0;32m----> 4\u001b[0;31m \u001b[0mabc\u001b[0m \u001b[0;34m=\u001b[0m \u001b[0mcalculate_end_date\u001b[0m \u001b[0;34m-\u001b[0m \u001b[0mstart_date\u001b[0m\u001b[0;34m\u001b[0m\u001b[0;34m\u001b[0m\u001b[0m\n\u001b[0m\u001b[1;32m      5\u001b[0m \u001b[0mprint\u001b[0m\u001b[0;34m(\u001b[0m\u001b[0mcalculate_end_date\u001b[0m\u001b[0;34m)\u001b[0m\u001b[0;34m\u001b[0m\u001b[0;34m\u001b[0m\u001b[0m\n\u001b[1;32m      6\u001b[0m \u001b[0mprint\u001b[0m\u001b[0;34m(\u001b[0m\u001b[0mstart_date\u001b[0m\u001b[0;34m)\u001b[0m\u001b[0;34m\u001b[0m\u001b[0;34m\u001b[0m\u001b[0m\n",
            "\u001b[0;31mTypeError\u001b[0m: unsupported operand type(s) for -: 'str' and 'int'"
          ]
        }
      ]
    },
    {
      "cell_type": "code",
      "metadata": {
        "id": "JIm2JV9Rw_pC"
      },
      "source": [
        "start_date = date_N_days_ago\n",
        "end_date = datetime.today().strftime('%Y-%m-%d')"
      ],
      "execution_count": null,
      "outputs": []
    },
    {
      "cell_type": "code",
      "metadata": {
        "id": "eH3KcSDXtgSY"
      },
      "source": [
        "date_filter = (createDate['Create Date'] >= start_date) & (createDate['Create Date'] <= end_date)"
      ],
      "execution_count": null,
      "outputs": []
    },
    {
      "cell_type": "code",
      "metadata": {
        "id": "u3Xhn5jSttEh"
      },
      "source": [
        "df_date_filter = createDate.loc[date_filter]"
      ],
      "execution_count": null,
      "outputs": []
    },
    {
      "cell_type": "code",
      "metadata": {
        "id": "83tGdcO-t0jV"
      },
      "source": [
        "df_date_filter.head(10)"
      ],
      "execution_count": null,
      "outputs": []
    },
    {
      "cell_type": "code",
      "metadata": {
        "id": "52sGy4Uv0z9L"
      },
      "source": [
        "df_date_filter.to_csv('fileName.csv')\n",
        "from google.colab import files\n",
        "files.download(\"fileName.csv\")"
      ],
      "execution_count": null,
      "outputs": []
    }
  ]
}